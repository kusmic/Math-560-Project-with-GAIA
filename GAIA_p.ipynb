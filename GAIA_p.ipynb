{
 "cells": [
  {
   "cell_type": "code",
   "execution_count": 2,
   "metadata": {},
   "outputs": [],
   "source": [
    "# Needed Modules\n",
    "\n",
    "import numpy as np\n",
    "from astropy.io import ascii"
   ]
  },
  {
   "cell_type": "code",
   "execution_count": null,
   "metadata": {},
   "outputs": [],
   "source": [
    "# First reading all GAIA files\n",
    "\n",
    "# Read files in alphanumeric increasing order\n",
    "Gaia1 = ascii.read(\"data/GaiaSource_1584380076484244352_2200921635402776448.csv\", format='csv')\n",
    "Gaia2 = ascii.read(\"data/GaiaSource_2200921875920933120_3650804325670415744.csv\", format='csv')\n",
    "Gaia3 = ascii.read(\"data/GaiaSource_2851858288640_1584379458008952960.csv\", format='csv')\n",
    "Gaia4 = ascii.read(\"data/GaiaSource_3650805523966057472_4475721411269270528.csv\", format='csv')\n",
    "Gaia5 = ascii.read(\"data/GaiaSource_4475722064104327936_5502601461277677696.csv\", format='csv')\n",
    "Gaia6 = ascii.read(\"data/GaiaSource_5502601873595430784_5933051501826387072.csv\", format='csv')\n",
    "Gaia7 = ascii.read(\"data/GaiaSource_5933051914143228928_6714230117939284352.csv\", format='csv')\n",
    "Gaia8 = ascii.read(\"data/GaiaSource_6714230465835878784_6917528443525529728.csv\", format='csv')"
   ]
  },
  {
   "cell_type": "code",
   "execution_count": null,
   "metadata": {},
   "outputs": [],
   "source": []
  }
 ],
 "metadata": {
  "kernelspec": {
   "display_name": "Python 3",
   "language": "python",
   "name": "python3"
  },
  "language_info": {
   "codemirror_mode": {
    "name": "ipython",
    "version": 3
   },
   "file_extension": ".py",
   "mimetype": "text/x-python",
   "name": "python",
   "nbconvert_exporter": "python",
   "pygments_lexer": "ipython3",
   "version": "3.6.5"
  }
 },
 "nbformat": 4,
 "nbformat_minor": 2
}
