{
 "cells": [
  {
   "cell_type": "code",
   "execution_count": 1,
   "metadata": {},
   "outputs": [],
   "source": [
    "# Needed Modules\n",
    "\n",
    "import numpy as np\n",
    "from astropy.table import Table, vstack\n",
    "from astropy.io import ascii\n",
    "from os import system"
   ]
  },
  {
   "cell_type": "code",
   "execution_count": 2,
   "metadata": {},
   "outputs": [
    {
     "name": "stdout",
     "output_type": "stream",
     "text": [
      "Done\n"
     ]
    }
   ],
   "source": [
    "# First reading all GAIA files\n",
    "\n",
    "files = [\n",
    "    \"data/GaiaSource_1584380076484244352_2200921635402776448.csv\", \n",
    "    \"data/GaiaSource_2200921875920933120_3650804325670415744.csv\",\n",
    "    \"data/GaiaSource_2851858288640_1584379458008952960.csv\", \n",
    "    \"data/GaiaSource_3650805523966057472_4475721411269270528.csv\", \n",
    "    \"data/GaiaSource_4475722064104327936_5502601461277677696.csv\", \n",
    "    \"data/GaiaSource_5502601873595430784_5933051501826387072.csv\", \n",
    "    \"data/GaiaSource_5933051914143228928_6714230117939284352.csv\", \n",
    "    \"data/GaiaSource_6714230465835878784_6917528443525529728.csv\"]\n",
    "\n",
    "# Read files in alphanumeric increasing order\n",
    "\n",
    "Gaia1 = ascii.read(files[0], format='csv')\n",
    "Gaia2 = ascii.read(files[1], format='csv')\n",
    "Gaia3 = ascii.read(files[2], format='csv')\n",
    "Gaia4 = ascii.read(files[3], format='csv')\n",
    "Gaia5 = ascii.read(files[4], format='csv')\n",
    "Gaia6 = ascii.read(files[5], format='csv')\n",
    "Gaia7 = ascii.read(files[6], format='csv')\n",
    "Gaia8 = ascii.read(files[7], format='csv')\n",
    "\n",
    "system('play --no-show-progress --null --channels 2 synth 1 sine 400')\n",
    "print(\"Done\")\n",
    "\n",
    "# PLEASE RUN THIS ONLY ONCE AND NEVER AGAIN"
   ]
  },
  {
   "cell_type": "markdown",
   "metadata": {},
   "source": [
    "# What to do\n",
    "* First step is to find color. Best option is a blue-red color index (G_BP - G_RP)\n",
    "    - The columns we are interested in seem to be phot_bp_mean_mag, phot_rp_mean_mag, and phot_g_mean_mag\n",
    "    \n",
    "\n",
    "* Next, we need to find the galactic coordinates of the star\n",
    "    - ra, ra_error, dec, dec_error, parallax, and parallax_error seem to be our columns\n",
    "    \n",
    "\n",
    "We will talk about what to do next after that"
   ]
  },
  {
   "cell_type": "code",
   "execution_count": null,
   "metadata": {},
   "outputs": [],
   "source": [
    "Gaia1.columns\n",
    "\n",
    "# By the looks of it, if the mask element is True, it is a null entry"
   ]
  },
  {
   "cell_type": "code",
   "execution_count": 4,
   "metadata": {},
   "outputs": [],
   "source": [
    "# We make a function to find the color index of blue (G_BP) and red (G_RP)\n",
    "\n",
    "def BR_index(bp, rp): # blue - red\n",
    "    color = []\n",
    "    for i in range(len(bp)): # Reads indices and calculates color of unmasked entries\n",
    "        if (bp.mask[i] == False) and (rp.mask[i] == False):\n",
    "            color.append(bp[i] - rp[i])\n",
    "        else:\n",
    "            continue    \n",
    "    return(color)\n"
   ]
  },
  {
   "cell_type": "code",
   "execution_count": 5,
   "metadata": {},
   "outputs": [
    {
     "ename": "KeyboardInterrupt",
     "evalue": "",
     "output_type": "error",
     "traceback": [
      "\u001b[0;31m---------------------------------------------------------------------------\u001b[0m",
      "\u001b[0;31mKeyboardInterrupt\u001b[0m                         Traceback (most recent call last)",
      "\u001b[0;32m<ipython-input-5-97ee04c5f025>\u001b[0m in \u001b[0;36m<module>\u001b[0;34m()\u001b[0m\n\u001b[1;32m     25\u001b[0m \u001b[0mgr5\u001b[0m \u001b[0;34m=\u001b[0m \u001b[0mBR_index\u001b[0m\u001b[0;34m(\u001b[0m\u001b[0mGaia5\u001b[0m\u001b[0;34m[\u001b[0m\u001b[0;34m'phot_g_mean_mag'\u001b[0m\u001b[0;34m]\u001b[0m\u001b[0;34m,\u001b[0m \u001b[0mGaia5\u001b[0m\u001b[0;34m[\u001b[0m\u001b[0;34m'phot_rp_mean_mag'\u001b[0m\u001b[0;34m]\u001b[0m\u001b[0;34m)\u001b[0m\u001b[0;34m\u001b[0m\u001b[0m\n\u001b[1;32m     26\u001b[0m \u001b[0mgr6\u001b[0m \u001b[0;34m=\u001b[0m \u001b[0mBR_index\u001b[0m\u001b[0;34m(\u001b[0m\u001b[0mGaia6\u001b[0m\u001b[0;34m[\u001b[0m\u001b[0;34m'phot_g_mean_mag'\u001b[0m\u001b[0;34m]\u001b[0m\u001b[0;34m,\u001b[0m \u001b[0mGaia6\u001b[0m\u001b[0;34m[\u001b[0m\u001b[0;34m'phot_rp_mean_mag'\u001b[0m\u001b[0;34m]\u001b[0m\u001b[0;34m)\u001b[0m\u001b[0;34m\u001b[0m\u001b[0m\n\u001b[0;32m---> 27\u001b[0;31m \u001b[0mgr7\u001b[0m \u001b[0;34m=\u001b[0m \u001b[0mBR_index\u001b[0m\u001b[0;34m(\u001b[0m\u001b[0mGaia7\u001b[0m\u001b[0;34m[\u001b[0m\u001b[0;34m'phot_g_mean_mag'\u001b[0m\u001b[0;34m]\u001b[0m\u001b[0;34m,\u001b[0m \u001b[0mGaia7\u001b[0m\u001b[0;34m[\u001b[0m\u001b[0;34m'phot_rp_mean_mag'\u001b[0m\u001b[0;34m]\u001b[0m\u001b[0;34m)\u001b[0m\u001b[0;34m\u001b[0m\u001b[0m\n\u001b[0m\u001b[1;32m     28\u001b[0m \u001b[0mgr8\u001b[0m \u001b[0;34m=\u001b[0m \u001b[0mBR_index\u001b[0m\u001b[0;34m(\u001b[0m\u001b[0mGaia8\u001b[0m\u001b[0;34m[\u001b[0m\u001b[0;34m'phot_g_mean_mag'\u001b[0m\u001b[0;34m]\u001b[0m\u001b[0;34m,\u001b[0m \u001b[0mGaia8\u001b[0m\u001b[0;34m[\u001b[0m\u001b[0;34m'phot_rp_mean_mag'\u001b[0m\u001b[0;34m]\u001b[0m\u001b[0;34m)\u001b[0m\u001b[0;34m\u001b[0m\u001b[0m\n",
      "\u001b[0;32m<ipython-input-4-9b524581da59>\u001b[0m in \u001b[0;36mBR_index\u001b[0;34m(bp, rp)\u001b[0m\n\u001b[1;32m      5\u001b[0m     \u001b[0;32mfor\u001b[0m \u001b[0mi\u001b[0m \u001b[0;32min\u001b[0m \u001b[0mrange\u001b[0m\u001b[0;34m(\u001b[0m\u001b[0mlen\u001b[0m\u001b[0;34m(\u001b[0m\u001b[0mbp\u001b[0m\u001b[0;34m)\u001b[0m\u001b[0;34m)\u001b[0m\u001b[0;34m:\u001b[0m \u001b[0;31m# Reads indices and calculates color of unmasked entries\u001b[0m\u001b[0;34m\u001b[0m\u001b[0m\n\u001b[1;32m      6\u001b[0m         \u001b[0;32mif\u001b[0m \u001b[0;34m(\u001b[0m\u001b[0mbp\u001b[0m\u001b[0;34m.\u001b[0m\u001b[0mmask\u001b[0m\u001b[0;34m[\u001b[0m\u001b[0mi\u001b[0m\u001b[0;34m]\u001b[0m \u001b[0;34m==\u001b[0m \u001b[0;32mFalse\u001b[0m\u001b[0;34m)\u001b[0m \u001b[0;32mand\u001b[0m \u001b[0;34m(\u001b[0m\u001b[0mrp\u001b[0m\u001b[0;34m.\u001b[0m\u001b[0mmask\u001b[0m\u001b[0;34m[\u001b[0m\u001b[0mi\u001b[0m\u001b[0;34m]\u001b[0m \u001b[0;34m==\u001b[0m \u001b[0;32mFalse\u001b[0m\u001b[0;34m)\u001b[0m\u001b[0;34m:\u001b[0m\u001b[0;34m\u001b[0m\u001b[0m\n\u001b[0;32m----> 7\u001b[0;31m             \u001b[0mcolor\u001b[0m\u001b[0;34m.\u001b[0m\u001b[0mappend\u001b[0m\u001b[0;34m(\u001b[0m\u001b[0mbp\u001b[0m\u001b[0;34m[\u001b[0m\u001b[0mi\u001b[0m\u001b[0;34m]\u001b[0m \u001b[0;34m-\u001b[0m \u001b[0mrp\u001b[0m\u001b[0;34m[\u001b[0m\u001b[0mi\u001b[0m\u001b[0;34m]\u001b[0m\u001b[0;34m)\u001b[0m\u001b[0;34m\u001b[0m\u001b[0m\n\u001b[0m\u001b[1;32m      8\u001b[0m         \u001b[0;32melse\u001b[0m\u001b[0;34m:\u001b[0m\u001b[0;34m\u001b[0m\u001b[0m\n\u001b[1;32m      9\u001b[0m             \u001b[0;32mcontinue\u001b[0m\u001b[0;34m\u001b[0m\u001b[0m\n",
      "\u001b[0;32mastropy/table/_column_mixins.pyx\u001b[0m in \u001b[0;36mastropy.table._column_mixins._MaskedColumnGetitemShim.__getitem__\u001b[0;34m()\u001b[0m\n",
      "\u001b[0;32mastropy/table/_column_mixins.pyx\u001b[0m in \u001b[0;36mastropy.table._column_mixins.base_getitem\u001b[0;34m()\u001b[0m\n",
      "\u001b[0;32mastropy/table/_column_mixins.pyx\u001b[0m in \u001b[0;36mastropy.table._column_mixins.masked_column_getitem\u001b[0;34m()\u001b[0m\n",
      "\u001b[0;32m~/anaconda3/lib/python3.6/site-packages/numpy/ma/core.py\u001b[0m in \u001b[0;36m__getitem__\u001b[0;34m(self, indx)\u001b[0m\n\u001b[1;32m   3156\u001b[0m \u001b[0;34m\u001b[0m\u001b[0m\n\u001b[1;32m   3157\u001b[0m         \"\"\"\n\u001b[0;32m-> 3158\u001b[0;31m         \u001b[0mdout\u001b[0m \u001b[0;34m=\u001b[0m \u001b[0mself\u001b[0m\u001b[0;34m.\u001b[0m\u001b[0mdata\u001b[0m\u001b[0;34m[\u001b[0m\u001b[0mindx\u001b[0m\u001b[0;34m]\u001b[0m\u001b[0;34m\u001b[0m\u001b[0m\n\u001b[0m\u001b[1;32m   3159\u001b[0m         \u001b[0;31m# We could directly use ndarray.__getitem__ on self.\u001b[0m\u001b[0;34m\u001b[0m\u001b[0;34m\u001b[0m\u001b[0m\n\u001b[1;32m   3160\u001b[0m         \u001b[0;31m# But then we would have to modify __array_finalize__ to prevent the\u001b[0m\u001b[0;34m\u001b[0m\u001b[0;34m\u001b[0m\u001b[0m\n",
      "\u001b[0;32m~/anaconda3/lib/python3.6/site-packages/numpy/ma/core.py\u001b[0m in \u001b[0;36m__getitem__\u001b[0;34m(self, indx)\u001b[0m\n\u001b[1;32m   3156\u001b[0m \u001b[0;34m\u001b[0m\u001b[0m\n\u001b[1;32m   3157\u001b[0m         \"\"\"\n\u001b[0;32m-> 3158\u001b[0;31m         \u001b[0mdout\u001b[0m \u001b[0;34m=\u001b[0m \u001b[0mself\u001b[0m\u001b[0;34m.\u001b[0m\u001b[0mdata\u001b[0m\u001b[0;34m[\u001b[0m\u001b[0mindx\u001b[0m\u001b[0;34m]\u001b[0m\u001b[0;34m\u001b[0m\u001b[0m\n\u001b[0m\u001b[1;32m   3159\u001b[0m         \u001b[0;31m# We could directly use ndarray.__getitem__ on self.\u001b[0m\u001b[0;34m\u001b[0m\u001b[0;34m\u001b[0m\u001b[0m\n\u001b[1;32m   3160\u001b[0m         \u001b[0;31m# But then we would have to modify __array_finalize__ to prevent the\u001b[0m\u001b[0;34m\u001b[0m\u001b[0;34m\u001b[0m\u001b[0m\n",
      "\u001b[0;32m~/anaconda3/lib/python3.6/site-packages/numpy/ma/core.py\u001b[0m in \u001b[0;36m_get_data\u001b[0;34m(self)\u001b[0m\n\u001b[1;32m   3531\u001b[0m \u001b[0;34m\u001b[0m\u001b[0m\n\u001b[1;32m   3532\u001b[0m         \"\"\"\n\u001b[0;32m-> 3533\u001b[0;31m         \u001b[0;32mreturn\u001b[0m \u001b[0mndarray\u001b[0m\u001b[0;34m.\u001b[0m\u001b[0mview\u001b[0m\u001b[0;34m(\u001b[0m\u001b[0mself\u001b[0m\u001b[0;34m,\u001b[0m \u001b[0mself\u001b[0m\u001b[0;34m.\u001b[0m\u001b[0m_baseclass\u001b[0m\u001b[0;34m)\u001b[0m\u001b[0;34m\u001b[0m\u001b[0m\n\u001b[0m\u001b[1;32m   3534\u001b[0m \u001b[0;34m\u001b[0m\u001b[0m\n\u001b[1;32m   3535\u001b[0m     \u001b[0m_data\u001b[0m \u001b[0;34m=\u001b[0m \u001b[0mproperty\u001b[0m\u001b[0;34m(\u001b[0m\u001b[0mfget\u001b[0m\u001b[0;34m=\u001b[0m\u001b[0m_get_data\u001b[0m\u001b[0;34m)\u001b[0m\u001b[0;34m\u001b[0m\u001b[0m\n",
      "\u001b[0;32m~/anaconda3/lib/python3.6/site-packages/astropy/table/column.py\u001b[0m in \u001b[0;36m__array_finalize__\u001b[0;34m(self, obj)\u001b[0m\n\u001b[1;32m    358\u001b[0m         \u001b[0;32mif\u001b[0m \u001b[0;32mnot\u001b[0m \u001b[0mhasattr\u001b[0m\u001b[0;34m(\u001b[0m\u001b[0mself\u001b[0m\u001b[0;34m,\u001b[0m \u001b[0;34m'indices'\u001b[0m\u001b[0;34m)\u001b[0m\u001b[0;34m:\u001b[0m  \u001b[0;31m# may have been copied in __new__\u001b[0m\u001b[0;34m\u001b[0m\u001b[0m\n\u001b[1;32m    359\u001b[0m             \u001b[0mself\u001b[0m\u001b[0;34m.\u001b[0m\u001b[0mindices\u001b[0m \u001b[0;34m=\u001b[0m \u001b[0;34m[\u001b[0m\u001b[0;34m]\u001b[0m\u001b[0;34m\u001b[0m\u001b[0m\n\u001b[0;32m--> 360\u001b[0;31m         \u001b[0mself\u001b[0m\u001b[0;34m.\u001b[0m\u001b[0m_copy_attrs\u001b[0m\u001b[0;34m(\u001b[0m\u001b[0mobj\u001b[0m\u001b[0;34m)\u001b[0m\u001b[0;34m\u001b[0m\u001b[0m\n\u001b[0m\u001b[1;32m    361\u001b[0m \u001b[0;34m\u001b[0m\u001b[0m\n\u001b[1;32m    362\u001b[0m     \u001b[0;32mdef\u001b[0m \u001b[0m__array_wrap__\u001b[0m\u001b[0;34m(\u001b[0m\u001b[0mself\u001b[0m\u001b[0;34m,\u001b[0m \u001b[0mout_arr\u001b[0m\u001b[0;34m,\u001b[0m \u001b[0mcontext\u001b[0m\u001b[0;34m=\u001b[0m\u001b[0;32mNone\u001b[0m\u001b[0;34m)\u001b[0m\u001b[0;34m:\u001b[0m\u001b[0;34m\u001b[0m\u001b[0m\n",
      "\u001b[0;32m~/anaconda3/lib/python3.6/site-packages/astropy/table/column.py\u001b[0m in \u001b[0;36m_copy_attrs\u001b[0;34m(self, obj)\u001b[0m\n\u001b[1;32m    729\u001b[0m             \u001b[0mval\u001b[0m \u001b[0;34m=\u001b[0m \u001b[0mgetattr\u001b[0m\u001b[0;34m(\u001b[0m\u001b[0mobj\u001b[0m\u001b[0;34m,\u001b[0m \u001b[0mattr\u001b[0m\u001b[0;34m,\u001b[0m \u001b[0;32mNone\u001b[0m\u001b[0;34m)\u001b[0m\u001b[0;34m\u001b[0m\u001b[0m\n\u001b[1;32m    730\u001b[0m             \u001b[0msetattr\u001b[0m\u001b[0;34m(\u001b[0m\u001b[0mself\u001b[0m\u001b[0;34m,\u001b[0m \u001b[0mattr\u001b[0m\u001b[0;34m,\u001b[0m \u001b[0mval\u001b[0m\u001b[0;34m)\u001b[0m\u001b[0;34m\u001b[0m\u001b[0m\n\u001b[0;32m--> 731\u001b[0;31m         \u001b[0mself\u001b[0m\u001b[0;34m.\u001b[0m\u001b[0mmeta\u001b[0m \u001b[0;34m=\u001b[0m \u001b[0mdeepcopy\u001b[0m\u001b[0;34m(\u001b[0m\u001b[0mgetattr\u001b[0m\u001b[0;34m(\u001b[0m\u001b[0mobj\u001b[0m\u001b[0;34m,\u001b[0m \u001b[0;34m'meta'\u001b[0m\u001b[0;34m,\u001b[0m \u001b[0;34m{\u001b[0m\u001b[0;34m}\u001b[0m\u001b[0;34m)\u001b[0m\u001b[0;34m)\u001b[0m\u001b[0;34m\u001b[0m\u001b[0m\n\u001b[0m\u001b[1;32m    732\u001b[0m \u001b[0;34m\u001b[0m\u001b[0m\n\u001b[1;32m    733\u001b[0m     \u001b[0;34m@\u001b[0m\u001b[0mstaticmethod\u001b[0m\u001b[0;34m\u001b[0m\u001b[0m\n",
      "\u001b[0;32m~/anaconda3/lib/python3.6/site-packages/astropy/utils/metadata.py\u001b[0m in \u001b[0;36m__set__\u001b[0;34m(self, instance, value)\u001b[0m\n\u001b[1;32m    410\u001b[0m             \u001b[0;32mif\u001b[0m \u001b[0misinstance\u001b[0m\u001b[0;34m(\u001b[0m\u001b[0mvalue\u001b[0m\u001b[0;34m,\u001b[0m \u001b[0mcollections\u001b[0m\u001b[0;34m.\u001b[0m\u001b[0mMapping\u001b[0m\u001b[0;34m)\u001b[0m\u001b[0;34m:\u001b[0m\u001b[0;34m\u001b[0m\u001b[0m\n\u001b[1;32m    411\u001b[0m                 \u001b[0;32mif\u001b[0m \u001b[0mself\u001b[0m\u001b[0;34m.\u001b[0m\u001b[0mcopy\u001b[0m\u001b[0;34m:\u001b[0m\u001b[0;34m\u001b[0m\u001b[0m\n\u001b[0;32m--> 412\u001b[0;31m                     \u001b[0minstance\u001b[0m\u001b[0;34m.\u001b[0m\u001b[0m_meta\u001b[0m \u001b[0;34m=\u001b[0m \u001b[0mdeepcopy\u001b[0m\u001b[0;34m(\u001b[0m\u001b[0mvalue\u001b[0m\u001b[0;34m)\u001b[0m\u001b[0;34m\u001b[0m\u001b[0m\n\u001b[0m\u001b[1;32m    413\u001b[0m                 \u001b[0;32melse\u001b[0m\u001b[0;34m:\u001b[0m\u001b[0;34m\u001b[0m\u001b[0m\n\u001b[1;32m    414\u001b[0m                     \u001b[0minstance\u001b[0m\u001b[0;34m.\u001b[0m\u001b[0m_meta\u001b[0m \u001b[0;34m=\u001b[0m \u001b[0mvalue\u001b[0m\u001b[0;34m\u001b[0m\u001b[0m\n",
      "\u001b[0;32m~/anaconda3/lib/python3.6/copy.py\u001b[0m in \u001b[0;36mdeepcopy\u001b[0;34m(x, memo, _nil)\u001b[0m\n\u001b[1;32m    183\u001b[0m     \u001b[0;32mif\u001b[0m \u001b[0my\u001b[0m \u001b[0;32mis\u001b[0m \u001b[0;32mnot\u001b[0m \u001b[0mx\u001b[0m\u001b[0;34m:\u001b[0m\u001b[0;34m\u001b[0m\u001b[0m\n\u001b[1;32m    184\u001b[0m         \u001b[0mmemo\u001b[0m\u001b[0;34m[\u001b[0m\u001b[0md\u001b[0m\u001b[0;34m]\u001b[0m \u001b[0;34m=\u001b[0m \u001b[0my\u001b[0m\u001b[0;34m\u001b[0m\u001b[0m\n\u001b[0;32m--> 185\u001b[0;31m         \u001b[0m_keep_alive\u001b[0m\u001b[0;34m(\u001b[0m\u001b[0mx\u001b[0m\u001b[0;34m,\u001b[0m \u001b[0mmemo\u001b[0m\u001b[0;34m)\u001b[0m \u001b[0;31m# Make sure x lives at least as long as d\u001b[0m\u001b[0;34m\u001b[0m\u001b[0m\n\u001b[0m\u001b[1;32m    186\u001b[0m     \u001b[0;32mreturn\u001b[0m \u001b[0my\u001b[0m\u001b[0;34m\u001b[0m\u001b[0m\n\u001b[1;32m    187\u001b[0m \u001b[0;34m\u001b[0m\u001b[0m\n",
      "\u001b[0;32m~/anaconda3/lib/python3.6/copy.py\u001b[0m in \u001b[0;36m_keep_alive\u001b[0;34m(x, memo)\u001b[0m\n\u001b[1;32m    261\u001b[0m     \"\"\"\n\u001b[1;32m    262\u001b[0m     \u001b[0;32mtry\u001b[0m\u001b[0;34m:\u001b[0m\u001b[0;34m\u001b[0m\u001b[0m\n\u001b[0;32m--> 263\u001b[0;31m         \u001b[0mmemo\u001b[0m\u001b[0;34m[\u001b[0m\u001b[0mid\u001b[0m\u001b[0;34m(\u001b[0m\u001b[0mmemo\u001b[0m\u001b[0;34m)\u001b[0m\u001b[0;34m]\u001b[0m\u001b[0;34m.\u001b[0m\u001b[0mappend\u001b[0m\u001b[0;34m(\u001b[0m\u001b[0mx\u001b[0m\u001b[0;34m)\u001b[0m\u001b[0;34m\u001b[0m\u001b[0m\n\u001b[0m\u001b[1;32m    264\u001b[0m     \u001b[0;32mexcept\u001b[0m \u001b[0mKeyError\u001b[0m\u001b[0;34m:\u001b[0m\u001b[0;34m\u001b[0m\u001b[0m\n\u001b[1;32m    265\u001b[0m         \u001b[0;31m# aha, this is the first one :-)\u001b[0m\u001b[0;34m\u001b[0m\u001b[0;34m\u001b[0m\u001b[0m\n",
      "\u001b[0;31mKeyboardInterrupt\u001b[0m: "
     ]
    }
   ],
   "source": [
    "# Now big lists of certain color indices\n",
    "\n",
    "br1 = BR_index(Gaia1['phot_bp_mean_mag'], Gaia1['phot_rp_mean_mag'])\n",
    "br2 = BR_index(Gaia2['phot_bp_mean_mag'], Gaia2['phot_rp_mean_mag'])\n",
    "br3 = BR_index(Gaia3['phot_bp_mean_mag'], Gaia3['phot_rp_mean_mag'])\n",
    "br4 = BR_index(Gaia4['phot_bp_mean_mag'], Gaia4['phot_rp_mean_mag'])\n",
    "br5 = BR_index(Gaia5['phot_bp_mean_mag'], Gaia5['phot_rp_mean_mag'])\n",
    "br6 = BR_index(Gaia6['phot_bp_mean_mag'], Gaia6['phot_rp_mean_mag'])\n",
    "br7 = BR_index(Gaia7['phot_bp_mean_mag'], Gaia7['phot_rp_mean_mag'])\n",
    "br8 = BR_index(Gaia8['phot_bp_mean_mag'], Gaia8['phot_rp_mean_mag'])\n",
    "\n",
    "bg1 = BR_index(Gaia1['phot_bp_mean_mag'], Gaia1['phot_g_mean_mag'])\n",
    "bg2 = BR_index(Gaia2['phot_bp_mean_mag'], Gaia2['phot_g_mean_mag'])\n",
    "bg3 = BR_index(Gaia3['phot_bp_mean_mag'], Gaia3['phot_g_mean_mag'])\n",
    "bg4 = BR_index(Gaia4['phot_bp_mean_mag'], Gaia4['phot_g_mean_mag'])\n",
    "bg5 = BR_index(Gaia5['phot_bp_mean_mag'], Gaia5['phot_g_mean_mag'])\n",
    "bg6 = BR_index(Gaia6['phot_bp_mean_mag'], Gaia6['phot_g_mean_mag'])\n",
    "bg7 = BR_index(Gaia7['phot_bp_mean_mag'], Gaia7['phot_g_mean_mag'])\n",
    "bg8 = BR_index(Gaia8['phot_bp_mean_mag'], Gaia8['phot_g_mean_mag'])\n",
    "\n",
    "gr1 = BR_index(Gaia1['phot_g_mean_mag'], Gaia1['phot_rp_mean_mag'])\n",
    "gr2 = BR_index(Gaia2['phot_g_mean_mag'], Gaia2['phot_rp_mean_mag'])\n",
    "gr3 = BR_index(Gaia3['phot_g_mean_mag'], Gaia3['phot_rp_mean_mag'])\n",
    "gr4 = BR_index(Gaia4['phot_g_mean_mag'], Gaia4['phot_rp_mean_mag'])\n",
    "gr5 = BR_index(Gaia5['phot_g_mean_mag'], Gaia5['phot_rp_mean_mag'])\n",
    "gr6 = BR_index(Gaia6['phot_g_mean_mag'], Gaia6['phot_rp_mean_mag'])\n",
    "gr7 = BR_index(Gaia7['phot_g_mean_mag'], Gaia7['phot_rp_mean_mag'])\n",
    "gr8 = BR_index(Gaia8['phot_g_mean_mag'], Gaia8['phot_rp_mean_mag'])\n"
   ]
  },
  {
   "cell_type": "code",
   "execution_count": null,
   "metadata": {},
   "outputs": [],
   "source": [
    "N_br1 = [np.mean(br1), np.std(br1)]\n",
    "N_br2 = [np.mean(br2), np.std(br2)]\n",
    "N_br3 = [np.mean(br3), np.std(br3)]\n",
    "N_br4 = [np.mean(br4), np.std(br4)]\n",
    "N_br5 = [np.mean(br5), np.std(br5)]\n",
    "N_br6 = [np.mean(br6), np.std(br6)]\n",
    "N_br7 = [np.mean(br7), np.std(br7)]\n",
    "N_br8 = [np.mean(br8), np.std(br8)]\n",
    "\n",
    "N_bg1 = [np.mean(bg1), np.std(bg1)]\n",
    "N_bg2 = [np.mean(bg2), np.std(bg2)]\n",
    "N_bg3 = [np.mean(bg3), np.std(bg3)]\n",
    "N_bg4 = [np.mean(bg4), np.std(bg4)]\n",
    "N_bg5 = [np.mean(bg5), np.std(bg5)]\n",
    "N_bg6 = [np.mean(bg6), np.std(bg6)]\n",
    "N_bg7 = [np.mean(bg7), np.std(bg7)]\n",
    "N_bg8 = [np.mean(bg8), np.std(bg8)]\n",
    "\n",
    "N_gr1 = [np.mean(gr1), np.std(gr1)]\n",
    "N_gr2 = [np.mean(gr2), np.std(gr2)]\n",
    "N_gr3 = [np.mean(gr3), np.std(gr3)]\n",
    "N_gr4 = [np.mean(gr4), np.std(gr4)]\n",
    "N_gr5 = [np.mean(gr5), np.std(gr5)]\n",
    "N_gr6 = [np.mean(gr6), np.std(gr6)]\n",
    "N_gr7 = [np.mean(gr7), np.std(gr7)]\n",
    "N_gr8 = [np.mean(gr8), np.std(gr8)]"
   ]
  },
  {
   "cell_type": "code",
   "execution_count": null,
   "metadata": {},
   "outputs": [],
   "source": [
    "# Debug Section\n",
    "\n",
    "if Color1[13480-14].mask == False:\n",
    "    print('Fuck')\n",
    "else:\n",
    "    print('Works')"
   ]
  },
  {
   "cell_type": "code",
   "execution_count": null,
   "metadata": {},
   "outputs": [],
   "source": []
  }
 ],
 "metadata": {
  "kernelspec": {
   "display_name": "Python 3",
   "language": "python",
   "name": "python3"
  },
  "language_info": {
   "codemirror_mode": {
    "name": "ipython",
    "version": 3
   },
   "file_extension": ".py",
   "mimetype": "text/x-python",
   "name": "python",
   "nbconvert_exporter": "python",
   "pygments_lexer": "ipython3",
   "version": "3.6.5"
  }
 },
 "nbformat": 4,
 "nbformat_minor": 2
}
