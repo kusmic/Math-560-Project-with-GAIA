{
 "cells": [
  {
   "cell_type": "code",
   "execution_count": 1,
   "metadata": {},
   "outputs": [],
   "source": [
    "# Needed Modules\n",
    "\n",
    "import numpy as np\n",
    "from astropy.table import Table, vstack\n",
    "from astropy.io import ascii\n",
    "from os import system"
   ]
  },
  {
   "cell_type": "code",
   "execution_count": 2,
   "metadata": {},
   "outputs": [
    {
     "name": "stdout",
     "output_type": "stream",
     "text": [
      "Done\n"
     ]
    }
   ],
   "source": [
    "# First reading all GAIA files\n",
    "\n",
    "files = [\n",
    "    \"data/GaiaSource_1584380076484244352_2200921635402776448.csv\", \n",
    "    \"data/GaiaSource_2200921875920933120_3650804325670415744.csv\",\n",
    "    \"data/GaiaSource_2851858288640_1584379458008952960.csv\", \n",
    "    \"data/GaiaSource_3650805523966057472_4475721411269270528.csv\", \n",
    "    \"data/GaiaSource_4475722064104327936_5502601461277677696.csv\", \n",
    "    \"data/GaiaSource_5502601873595430784_5933051501826387072.csv\", \n",
    "    \"data/GaiaSource_5933051914143228928_6714230117939284352.csv\", \n",
    "    \"data/GaiaSource_6714230465835878784_6917528443525529728.csv\"]\n",
    "\n",
    "# Read files in alphanumeric increasing order\n",
    "\n",
    "Gaia1 = ascii.read(files[0], format='csv')\n",
    "Gaia2 = ascii.read(files[1], format='csv')\n",
    "Gaia3 = ascii.read(files[2], format='csv')\n",
    "Gaia4 = ascii.read(files[3], format='csv')\n",
    "Gaia5 = ascii.read(files[4], format='csv')\n",
    "Gaia6 = ascii.read(files[5], format='csv')\n",
    "Gaia7 = ascii.read(files[6], format='csv')\n",
    "Gaia8 = ascii.read(files[7], format='csv')\n",
    "\n",
    "system('play --no-show-progress --null --channels 2 synth 1 sine 400')\n",
    "print(\"Done\")\n",
    "\n",
    "# PLEASE RUN THIS ONLY ONCE AND NEVER AGAIN"
   ]
  },
  {
   "cell_type": "markdown",
   "metadata": {},
   "source": [
    "# What to do\n",
    "* First step is to find color. Best option is a blue-red color index (G_BP - G_RP)\n",
    "    - The columns we are interested in seem to be phot_bp_mean_mag, phot_rp_mean_mag, and phot_g_mean_mag\n",
    "    \n",
    "\n",
    "* Next, we need to find the galactic coordinates of the star\n",
    "    - ra, ra_error, dec, dec_error, parallax, and parallax_error seem to be our columns\n",
    "    \n",
    "    \n",
    "* Items ID'd by the column solution_id\n",
    "    \n",
    "\n",
    "We will talk about what to do next after that"
   ]
  },
  {
   "cell_type": "code",
   "execution_count": 4,
   "metadata": {},
   "outputs": [
    {
     "data": {
      "text/plain": [
       "<TableColumns names=('solution_id','designation','source_id','random_index','ref_epoch','ra','ra_error','dec','dec_error','parallax','parallax_error','parallax_over_error','pmra','pmra_error','pmdec','pmdec_error','ra_dec_corr','ra_parallax_corr','ra_pmra_corr','ra_pmdec_corr','dec_parallax_corr','dec_pmra_corr','dec_pmdec_corr','parallax_pmra_corr','parallax_pmdec_corr','pmra_pmdec_corr','astrometric_n_obs_al','astrometric_n_obs_ac','astrometric_n_good_obs_al','astrometric_n_bad_obs_al','astrometric_gof_al','astrometric_chi2_al','astrometric_excess_noise','astrometric_excess_noise_sig','astrometric_params_solved','astrometric_primary_flag','astrometric_weight_al','astrometric_pseudo_colour','astrometric_pseudo_colour_error','mean_varpi_factor_al','astrometric_matched_observations','visibility_periods_used','astrometric_sigma5d_max','frame_rotator_object_type','matched_observations','duplicated_source','phot_g_n_obs','phot_g_mean_flux','phot_g_mean_flux_error','phot_g_mean_flux_over_error','phot_g_mean_mag','phot_bp_n_obs','phot_bp_mean_flux','phot_bp_mean_flux_error','phot_bp_mean_flux_over_error','phot_bp_mean_mag','phot_rp_n_obs','phot_rp_mean_flux','phot_rp_mean_flux_error','phot_rp_mean_flux_over_error','phot_rp_mean_mag','phot_bp_rp_excess_factor','phot_proc_mode','bp_rp','bp_g','g_rp','radial_velocity','radial_velocity_error','rv_nb_transits','rv_template_teff','rv_template_logg','rv_template_fe_h','phot_variable_flag','l','b','ecl_lon','ecl_lat','priam_flags','teff_val','teff_percentile_lower','teff_percentile_upper','a_g_val','a_g_percentile_lower','a_g_percentile_upper','e_bp_min_rp_val','e_bp_min_rp_percentile_lower','e_bp_min_rp_percentile_upper','flame_flags','radius_val','radius_percentile_lower','radius_percentile_upper','lum_val','lum_percentile_lower','lum_percentile_upper')>"
      ]
     },
     "execution_count": 4,
     "metadata": {},
     "output_type": "execute_result"
    }
   ],
   "source": [
    "Gaia1.columns\n",
    "\n",
    "# By the looks of it, if the mask element is True, it is a null entry"
   ]
  },
  {
   "cell_type": "code",
   "execution_count": 5,
   "metadata": {},
   "outputs": [],
   "source": [
    "# We make a function to find the color index of blue (G_BP) and red (G_RP)\n",
    "# Structured to keep ID as the first item in the list\n",
    "\n",
    "def BR_index(ID, bp, rp): # color1 - color2\n",
    "    color = []\n",
    "    for i in range(len(bp)): # Reads indices and calculates color of unmasked entries\n",
    "        if (bp.mask[i] == False) and (rp.mask[i] == False):\n",
    "            color.append([ID[i], (bp[i] - rp[i])])\n",
    "        else:\n",
    "            continue    \n",
    "    return(color)\n"
   ]
  },
  {
   "cell_type": "code",
   "execution_count": 7,
   "metadata": {},
   "outputs": [
    {
     "ename": "TypeError",
     "evalue": "`tables` arg must be a Table or sequence of Tables or Rows",
     "output_type": "error",
     "traceback": [
      "\u001b[0;31m---------------------------------------------------------------------------\u001b[0m",
      "\u001b[0;31mTypeError\u001b[0m                                 Traceback (most recent call last)",
      "\u001b[0;32m<ipython-input-7-7e41f50e1848>\u001b[0m in \u001b[0;36m<module>\u001b[0;34m()\u001b[0m\n\u001b[1;32m     31\u001b[0m \u001b[0mgr8\u001b[0m \u001b[0;34m=\u001b[0m \u001b[0mBR_index\u001b[0m\u001b[0;34m(\u001b[0m\u001b[0mGaia8\u001b[0m\u001b[0;34m[\u001b[0m\u001b[0;34m'solution_id'\u001b[0m\u001b[0;34m]\u001b[0m\u001b[0;34m,\u001b[0m \u001b[0mGaia8\u001b[0m\u001b[0;34m[\u001b[0m\u001b[0;34m'phot_g_mean_mag'\u001b[0m\u001b[0;34m]\u001b[0m\u001b[0;34m,\u001b[0m \u001b[0mGaia8\u001b[0m\u001b[0;34m[\u001b[0m\u001b[0;34m'phot_rp_mean_mag'\u001b[0m\u001b[0;34m]\u001b[0m\u001b[0;34m)\u001b[0m\u001b[0;34m\u001b[0m\u001b[0m\n\u001b[1;32m     32\u001b[0m \u001b[0;34m\u001b[0m\u001b[0m\n\u001b[0;32m---> 33\u001b[0;31m \u001b[0mbr\u001b[0m \u001b[0;34m=\u001b[0m \u001b[0mvstack\u001b[0m\u001b[0;34m(\u001b[0m\u001b[0;34m[\u001b[0m\u001b[0mbr1\u001b[0m\u001b[0;34m,\u001b[0m \u001b[0mbr2\u001b[0m\u001b[0;34m,\u001b[0m \u001b[0mbr3\u001b[0m\u001b[0;34m,\u001b[0m \u001b[0mbr4\u001b[0m\u001b[0;34m,\u001b[0m \u001b[0mbr5\u001b[0m\u001b[0;34m,\u001b[0m \u001b[0mbr6\u001b[0m\u001b[0;34m,\u001b[0m \u001b[0mbr7\u001b[0m\u001b[0;34m,\u001b[0m \u001b[0mbr8\u001b[0m\u001b[0;34m]\u001b[0m\u001b[0;34m)\u001b[0m\u001b[0;34m\u001b[0m\u001b[0m\n\u001b[0m\u001b[1;32m     34\u001b[0m \u001b[0mbg\u001b[0m \u001b[0;34m=\u001b[0m \u001b[0mvstack\u001b[0m\u001b[0;34m(\u001b[0m\u001b[0;34m[\u001b[0m\u001b[0mbg1\u001b[0m\u001b[0;34m,\u001b[0m \u001b[0mbg2\u001b[0m\u001b[0;34m,\u001b[0m \u001b[0mbg3\u001b[0m\u001b[0;34m,\u001b[0m \u001b[0mbg4\u001b[0m\u001b[0;34m,\u001b[0m \u001b[0mbg5\u001b[0m\u001b[0;34m,\u001b[0m \u001b[0mbg6\u001b[0m\u001b[0;34m,\u001b[0m \u001b[0mbg7\u001b[0m\u001b[0;34m,\u001b[0m \u001b[0mbg8\u001b[0m\u001b[0;34m]\u001b[0m\u001b[0;34m)\u001b[0m\u001b[0;34m\u001b[0m\u001b[0m\n\u001b[1;32m     35\u001b[0m \u001b[0mgr\u001b[0m \u001b[0;34m=\u001b[0m \u001b[0mvstack\u001b[0m\u001b[0;34m(\u001b[0m\u001b[0;34m[\u001b[0m\u001b[0mgr1\u001b[0m\u001b[0;34m,\u001b[0m \u001b[0mgr2\u001b[0m\u001b[0;34m,\u001b[0m \u001b[0mgr3\u001b[0m\u001b[0;34m,\u001b[0m \u001b[0mgr4\u001b[0m\u001b[0;34m,\u001b[0m \u001b[0mgr5\u001b[0m\u001b[0;34m,\u001b[0m \u001b[0mgr6\u001b[0m\u001b[0;34m,\u001b[0m \u001b[0mgr7\u001b[0m\u001b[0;34m,\u001b[0m \u001b[0mgr8\u001b[0m\u001b[0;34m]\u001b[0m\u001b[0;34m)\u001b[0m\u001b[0;34m\u001b[0m\u001b[0m\n",
      "\u001b[0;32m~/anaconda3/lib/python3.6/site-packages/astropy/table/operations.py\u001b[0m in \u001b[0;36mvstack\u001b[0;34m(tables, join_type, metadata_conflicts)\u001b[0m\n\u001b[1;32m    274\u001b[0m         \u001b[0;36m6\u001b[0m   \u001b[0;36m8\u001b[0m\u001b[0;34m\u001b[0m\u001b[0m\n\u001b[1;32m    275\u001b[0m     \"\"\"\n\u001b[0;32m--> 276\u001b[0;31m     \u001b[0mtables\u001b[0m \u001b[0;34m=\u001b[0m \u001b[0m_get_list_of_tables\u001b[0m\u001b[0;34m(\u001b[0m\u001b[0mtables\u001b[0m\u001b[0;34m)\u001b[0m  \u001b[0;31m# validates input\u001b[0m\u001b[0;34m\u001b[0m\u001b[0m\n\u001b[0m\u001b[1;32m    277\u001b[0m     \u001b[0;32mif\u001b[0m \u001b[0mlen\u001b[0m\u001b[0;34m(\u001b[0m\u001b[0mtables\u001b[0m\u001b[0;34m)\u001b[0m \u001b[0;34m==\u001b[0m \u001b[0;36m1\u001b[0m\u001b[0;34m:\u001b[0m\u001b[0;34m\u001b[0m\u001b[0m\n\u001b[1;32m    278\u001b[0m         \u001b[0;32mreturn\u001b[0m \u001b[0mtables\u001b[0m\u001b[0;34m[\u001b[0m\u001b[0;36m0\u001b[0m\u001b[0;34m]\u001b[0m  \u001b[0;31m# no point in stacking a single table\u001b[0m\u001b[0;34m\u001b[0m\u001b[0m\n",
      "\u001b[0;32m~/anaconda3/lib/python3.6/site-packages/astropy/table/operations.py\u001b[0m in \u001b[0;36m_get_list_of_tables\u001b[0;34m(tables)\u001b[0m\n\u001b[1;32m     47\u001b[0m     \u001b[0;31m# Make sure each thing is a Table or Row\u001b[0m\u001b[0;34m\u001b[0m\u001b[0;34m\u001b[0m\u001b[0m\n\u001b[1;32m     48\u001b[0m     \u001b[0;32mif\u001b[0m \u001b[0many\u001b[0m\u001b[0;34m(\u001b[0m\u001b[0;32mnot\u001b[0m \u001b[0misinstance\u001b[0m\u001b[0;34m(\u001b[0m\u001b[0mx\u001b[0m\u001b[0;34m,\u001b[0m \u001b[0;34m(\u001b[0m\u001b[0mTable\u001b[0m\u001b[0;34m,\u001b[0m \u001b[0mRow\u001b[0m\u001b[0;34m)\u001b[0m\u001b[0;34m)\u001b[0m \u001b[0;32mfor\u001b[0m \u001b[0mx\u001b[0m \u001b[0;32min\u001b[0m \u001b[0mtables\u001b[0m\u001b[0;34m)\u001b[0m \u001b[0;32mor\u001b[0m \u001b[0mlen\u001b[0m\u001b[0;34m(\u001b[0m\u001b[0mtables\u001b[0m\u001b[0;34m)\u001b[0m \u001b[0;34m==\u001b[0m \u001b[0;36m0\u001b[0m\u001b[0;34m:\u001b[0m\u001b[0;34m\u001b[0m\u001b[0m\n\u001b[0;32m---> 49\u001b[0;31m         \u001b[0;32mraise\u001b[0m \u001b[0mTypeError\u001b[0m\u001b[0;34m(\u001b[0m\u001b[0;34m'`tables` arg must be a Table or sequence of Tables or Rows'\u001b[0m\u001b[0;34m)\u001b[0m\u001b[0;34m\u001b[0m\u001b[0m\n\u001b[0m\u001b[1;32m     50\u001b[0m \u001b[0;34m\u001b[0m\u001b[0m\n\u001b[1;32m     51\u001b[0m     \u001b[0;31m# Convert any Rows to Tables\u001b[0m\u001b[0;34m\u001b[0m\u001b[0;34m\u001b[0m\u001b[0m\n",
      "\u001b[0;31mTypeError\u001b[0m: `tables` arg must be a Table or sequence of Tables or Rows"
     ]
    }
   ],
   "source": [
    "# Now big lists of certain color indices, also run once only\n",
    "# br: blue - red\n",
    "# bg: blue - green\n",
    "# gr: green - red\n",
    "\n",
    "br1 = BR_index(Gaia1['solution_id'], Gaia1['phot_bp_mean_mag'], Gaia1['phot_rp_mean_mag'])\n",
    "br2 = BR_index(Gaia2['solution_id'], Gaia2['phot_bp_mean_mag'], Gaia2['phot_rp_mean_mag'])\n",
    "br3 = BR_index(Gaia3['solution_id'], Gaia3['phot_bp_mean_mag'], Gaia3['phot_rp_mean_mag'])\n",
    "br4 = BR_index(Gaia4['solution_id'], Gaia4['phot_bp_mean_mag'], Gaia4['phot_rp_mean_mag'])\n",
    "br5 = BR_index(Gaia5['solution_id'], Gaia5['phot_bp_mean_mag'], Gaia5['phot_rp_mean_mag'])\n",
    "br6 = BR_index(Gaia6['solution_id'], Gaia6['phot_bp_mean_mag'], Gaia6['phot_rp_mean_mag'])\n",
    "br7 = BR_index(Gaia7['solution_id'], Gaia7['phot_bp_mean_mag'], Gaia7['phot_rp_mean_mag'])\n",
    "br8 = BR_index(Gaia8['solution_id'], Gaia8['phot_bp_mean_mag'], Gaia8['phot_rp_mean_mag'])\n",
    "\n",
    "bg1 = BR_index(Gaia1['solution_id'], Gaia1['phot_bp_mean_mag'], Gaia1['phot_g_mean_mag'])\n",
    "bg2 = BR_index(Gaia2['solution_id'], Gaia2['phot_bp_mean_mag'], Gaia2['phot_g_mean_mag'])\n",
    "bg3 = BR_index(Gaia3['solution_id'], Gaia3['phot_bp_mean_mag'], Gaia3['phot_g_mean_mag'])\n",
    "bg4 = BR_index(Gaia4['solution_id'], Gaia4['phot_bp_mean_mag'], Gaia4['phot_g_mean_mag'])\n",
    "bg5 = BR_index(Gaia5['solution_id'], Gaia5['phot_bp_mean_mag'], Gaia5['phot_g_mean_mag'])\n",
    "bg6 = BR_index(Gaia6['solution_id'], Gaia6['phot_bp_mean_mag'], Gaia6['phot_g_mean_mag'])\n",
    "bg7 = BR_index(Gaia7['solution_id'], Gaia7['phot_bp_mean_mag'], Gaia7['phot_g_mean_mag'])\n",
    "bg8 = BR_index(Gaia8['solution_id'], Gaia8['phot_bp_mean_mag'], Gaia8['phot_g_mean_mag'])\n",
    "\n",
    "gr1 = BR_index(Gaia1['solution_id'], Gaia1['phot_g_mean_mag'], Gaia1['phot_rp_mean_mag'])\n",
    "gr2 = BR_index(Gaia2['solution_id'], Gaia2['phot_g_mean_mag'], Gaia2['phot_rp_mean_mag'])\n",
    "gr3 = BR_index(Gaia3['solution_id'], Gaia3['phot_g_mean_mag'], Gaia3['phot_rp_mean_mag'])\n",
    "gr4 = BR_index(Gaia4['solution_id'], Gaia4['phot_g_mean_mag'], Gaia4['phot_rp_mean_mag'])\n",
    "gr5 = BR_index(Gaia5['solution_id'], Gaia5['phot_g_mean_mag'], Gaia5['phot_rp_mean_mag'])\n",
    "gr6 = BR_index(Gaia6['solution_id'], Gaia6['phot_g_mean_mag'], Gaia6['phot_rp_mean_mag'])\n",
    "gr7 = BR_index(Gaia7['solution_id'], Gaia7['phot_g_mean_mag'], Gaia7['phot_rp_mean_mag'])\n",
    "gr8 = BR_index(Gaia8['solution_id'], Gaia8['phot_g_mean_mag'], Gaia8['phot_rp_mean_mag'])\n",
    "\n",
    "br = vstack([br1, br2, br3, br4, br5, br6, br7, br8])\n",
    "bg = vstack([bg1, bg2, bg3, bg4, bg5, bg6, bg7, bg8])\n",
    "gr = vstack([gr1, gr2, gr3, gr4, gr5, gr6, gr7, gr8])\n",
    "\n",
    "print(len(br))\n"
   ]
  },
  {
   "cell_type": "code",
   "execution_count": null,
   "metadata": {},
   "outputs": [],
   "source": [
    "N_br1 = [np.mean(br1[1]), np.std(br1[1])]\n",
    "N_br2 = [np.mean(br2[1]), np.std(br2[1])]\n",
    "N_br3 = [np.mean(br3[1]), np.std(br3[1])]\n",
    "N_br4 = [np.mean(br4[1]), np.std(br4[1])]\n",
    "N_br5 = [np.mean(br5[1]), np.std(br5[1])]\n",
    "N_br6 = [np.mean(br6[1]), np.std(br6[1])]\n",
    "N_br7 = [np.mean(br7[1]), np.std(br7[1])]\n",
    "N_br8 = [np.mean(br8[1]), np.std(br8[1])]\n",
    "\n",
    "N_bg1 = [np.mean(bg1[1]), np.std(bg1[1])]\n",
    "N_bg2 = [np.mean(bg2[1]), np.std(bg2[1])]\n",
    "N_bg3 = [np.mean(bg3[1]), np.std(bg3[1])]\n",
    "N_bg4 = [np.mean(bg4[1]), np.std(bg4[1])]\n",
    "N_bg5 = [np.mean(bg5[1]), np.std(bg5[1])]\n",
    "N_bg6 = [np.mean(bg6[1]), np.std(bg6[1])]\n",
    "N_bg7 = [np.mean(bg7[1]), np.std(bg7[1])]\n",
    "N_bg8 = [np.mean(bg8[1]), np.std(bg8[1])]\n",
    "\n",
    "N_gr1 = [np.mean(gr1[1]), np.std(gr1[1])]\n",
    "N_gr2 = [np.mean(gr2[1]), np.std(gr2[1])]\n",
    "N_gr3 = [np.mean(gr3[1]), np.std(gr3[1])]\n",
    "N_gr4 = [np.mean(gr4[1]), np.std(gr4[1])]\n",
    "N_gr5 = [np.mean(gr5[1]), np.std(gr5[1])]\n",
    "N_gr6 = [np.mean(gr6[1]), np.std(gr6[1])]\n",
    "N_gr7 = [np.mean(gr7[1]), np.std(gr7[1])]\n",
    "N_gr8 = [np.mean(gr8[1]), np.std(gr8[1])]"
   ]
  },
  {
   "cell_type": "code",
   "execution_count": null,
   "metadata": {},
   "outputs": [],
   "source": [
    "# Debug Section\n",
    "\n",
    "if Color1[13480-14].mask == False:\n",
    "    print('Fuck')\n",
    "else:\n",
    "    print('Works')"
   ]
  },
  {
   "cell_type": "code",
   "execution_count": null,
   "metadata": {},
   "outputs": [],
   "source": [
    "# Now to extract coordinates, will be RA-Dec\n",
    "# Doing it step-by-step to try avoid memory overflow\n",
    "\n",
    "def ra_dec(array):"
   ]
  }
 ],
 "metadata": {
  "kernelspec": {
   "display_name": "Python 3",
   "language": "python",
   "name": "python3"
  },
  "language_info": {
   "codemirror_mode": {
    "name": "ipython",
    "version": 3
   },
   "file_extension": ".py",
   "mimetype": "text/x-python",
   "name": "python",
   "nbconvert_exporter": "python",
   "pygments_lexer": "ipython3",
   "version": "3.6.5"
  }
 },
 "nbformat": 4,
 "nbformat_minor": 2
}
